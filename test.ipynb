{
 "cells": [
  {
   "cell_type": "code",
   "execution_count": 1,
   "metadata": {},
   "outputs": [],
   "source": [
    "import numpy as np\n",
    "import pandas as pd\n",
    "import streamlit as st\n",
    "import re\n",
    "from PIL import Image\n",
    "from collections import defaultdict\n",
    "\n",
    "def has_chinese(s):\n",
    "    return bool(re.search('[\\u4e00-\\u9fff]', s))\n",
    "\n",
    "def get_top_n_subsidiaries(edges2, n=5):\n",
    "\n",
    "    subsidiaries_dict = defaultdict(list)\n",
    "\n",
    "    for edge in edges2:\n",
    "        company_name = edge[0]\n",
    "        subsidiary = edge[1]\n",
    "        holding_ratio = edge[2]\n",
    "        if holding_ratio:\n",
    "            subsidiaries_dict[company_name].append(edge[1:])\n",
    "\n",
    "    top_n_subsidiaries = {}\n",
    "    for company, subsidiaries in subsidiaries_dict.items():\n",
    "        sorted_subsidiaries = sorted(subsidiaries, key=lambda x: x[1], reverse=True)\n",
    "        top_n_subsidiaries[company] = sorted_subsidiaries[:n]\n",
    "\n",
    "    final_edges = [(company, *sub_company) for company, sub_companies in top_n_subsidiaries.items() for sub_company in sub_companies]\n",
    "\n",
    "    return final_edges\n",
    "\n",
    "def get_stock_name(data, ticker):\n",
    "    return data[data['Symbol'] == ticker]['Name'].values[0]\n",
    "\n",
    "def sub_company(df, not_first_layer): # 给定dataframe，返回edges，以及子公司的(company, ticker)对\n",
    "    if df.shape[0]:\n",
    "        if not_first_layer:\n",
    "            edges = list(zip([not_first_layer] * df.shape[0], df['RalatedParty'], df['DirectHoldingRatio'].astype(float), df['IndirectHoldingRatio'], df['is_foreign'], df['Relationship'], df['is_subsidiary_listed']))\n",
    "        else:\n",
    "            edges = list(zip(df['Name'], df['RalatedParty'], df['DirectHoldingRatio'].astype(float), df['IndirectHoldingRatio'], df['is_foreign'], df['Relationship'], df['is_subsidiary_listed']))\n",
    "        descendant = df[~df['Sub_Symbol'].isna()]\n",
    "        return edges, list(zip(descendant['RalatedParty'], descendant['Sub_Symbol']))\n",
    "    else:\n",
    "        return [], []\n",
    "\n",
    "def search(data, input_ticker):\n",
    "    level = 0\n",
    "    edges = []\n",
    "    new_edges, subsidiary = sub_company(data[data['Symbol'] == input_ticker], not_first_layer=False)\n",
    "    while True:\n",
    "        edges = edges + [i + (level,) for i in new_edges]\n",
    "        level += 1\n",
    "        gen = list((sub_company(data[data['Symbol'] == ticker], not_first_layer=company) for company, ticker in subsidiary))\n",
    "        new_edges, subsidiary = [edge + (level,) for edges, _ in gen for edge in edges], [temp for _, temps in gen for temp in temps]\n",
    "        if len(subsidiary) == 0 or level == 3:\n",
    "            break\n",
    "    edges = [edge for edge in edges if edge[6] == '1' or not pd.isnull(edge[2])]\n",
    "    return edges\n",
    "\n",
    "def Shareholder(df, not_first_layer): # 给定dataframe，返回edges，以及子公司的(company, ticker)对\n",
    "    if df.shape[0]:\n",
    "        if not_first_layer:\n",
    "            edges = list(zip([not_first_layer] * df.shape[0], df['Shareholder_Name'], df['Shareholding_Ratio'].astype(float), df['Shares_Number'], df['is_foreign'], df['Shareholder_Nature'], df['is_subsidiary_listed']))\n",
    "        else:\n",
    "            edges = list(zip(df['Name'], df['Shareholder_Name'], df['Shareholding_Ratio'].astype(float), df['Shares_Number'], df['is_foreign'], df['Shareholder_Nature'], df['is_subsidiary_listed']))\n",
    "        descendant = df[~df['Sub_Symbol'].isna()]\n",
    "        return edges, list(zip(descendant['Shareholder_Name'], descendant['Sub_Symbol']))\n",
    "    else:\n",
    "        return [], []\n",
    "\n",
    "def search_shareholder(data, input_ticker):\n",
    "    level = -1\n",
    "    edges = []\n",
    "    new_edges, shareholders = Shareholder(data[data['Symbol'] == input_ticker], not_first_layer=False)\n",
    "    while True:\n",
    "        edges = edges + [i + (level,) for i in new_edges]\n",
    "        level -= 1\n",
    "        gen = list((Shareholder(data[data['Symbol'] == ticker], not_first_layer=company) for company, ticker in shareholders))\n",
    "        new_edges, shareholders = [edge + (level,) for edges, _ in gen for edge in edges], [temp for _, temps in gen for temp in temps]\n",
    "        if len(shareholders) == 0 or level == -3:\n",
    "            break\n",
    "    edges = [edge for edge in edges if edge[6] == '1' or not pd.isnull(edge[2])]\n",
    "    return edges\n"
   ]
  },
  {
   "cell_type": "code",
   "execution_count": 2,
   "metadata": {},
   "outputs": [],
   "source": [
    "data = pd.read_csv('data/data.csv', dtype=str) # pd.read_excel('data/data.xlsx')[2:].reset_index(drop=True)\n",
    "df = pd.read_csv('data/十大股东.csv', dtype=str)\n",
    "\n",
    "# data['is_foreign'] = data['RalatedParty'].apply(lambda x: 0 if has_chinese(x) else 1)\n",
    "# map = pd.read_excel('map.xlsx', dtype=str)\n",
    "# map_dict = dict(zip(map['公司名称'], map['证券代码.x']))\n",
    "# data['Sub_Symbol'] = data['RalatedParty'].map(map_dict)\n",
    "# data['is_subsidiary_listed'] = 0\n",
    "# data.loc[~data['Sub_Symbol'].isna(), 'is_subsidiary_listed'] = 1"
   ]
  },
  {
   "cell_type": "code",
   "execution_count": 19,
   "metadata": {},
   "outputs": [],
   "source": [
    "map = pd.read_csv('data/风险等级.csv', dtype=str)\n",
    "map_dict = dict(zip(map['证券代码.x'], map['股权架构等级']))"
   ]
  },
  {
   "cell_type": "code",
   "execution_count": 15,
   "metadata": {},
   "outputs": [],
   "source": [
    "# map[['证券代码.x', '股权架构等级']].to_csv('data/风险等级.csv', index=False)"
   ]
  },
  {
   "cell_type": "code",
   "execution_count": 141,
   "metadata": {},
   "outputs": [],
   "source": [
    "df.to_csv('data/十大股东.csv', index=False)"
   ]
  }
 ],
 "metadata": {
  "kernelspec": {
   "display_name": "Python 3",
   "language": "python",
   "name": "python3"
  },
  "language_info": {
   "codemirror_mode": {
    "name": "ipython",
    "version": 3
   },
   "file_extension": ".py",
   "mimetype": "text/x-python",
   "name": "python",
   "nbconvert_exporter": "python",
   "pygments_lexer": "ipython3",
   "version": "3.8.8"
  }
 },
 "nbformat": 4,
 "nbformat_minor": 2
}
