{
 "cells": [
  {
   "cell_type": "code",
   "execution_count": 112,
   "metadata": {},
   "outputs": [],
   "source": [
    "import numpy as np\n",
    "import pandas as pd\n",
    "import streamlit as st\n",
    "import re\n",
    "from PIL import Image\n",
    "from collections import defaultdict\n",
    "\n",
    "def get_top_n_subsidiaries(edges2, n=5):\n",
    "\n",
    "    subsidiaries_dict = defaultdict(list)\n",
    "\n",
    "    for edge in edges2:\n",
    "        company_name = edge[0]\n",
    "        subsidiary = edge[1]\n",
    "        holding_ratio = edge[2]\n",
    "        if holding_ratio:\n",
    "            subsidiaries_dict[company_name].append(edge[1:])\n",
    "\n",
    "    top_n_subsidiaries = {}\n",
    "    for company, subsidiaries in subsidiaries_dict.items():\n",
    "        sorted_subsidiaries = sorted(subsidiaries, key=lambda x: x[1], reverse=True)\n",
    "        top_n_subsidiaries[company] = sorted_subsidiaries[:n]\n",
    "\n",
    "    final_edges = [(company, *sub_company) for company, sub_companies in top_n_subsidiaries.items() for sub_company in sub_companies]\n",
    "\n",
    "    return final_edges\n",
    "\n",
    "def get_stock_name(data, ticker):\n",
    "    return data[data['Symbol'] == ticker]['Name'].values[0]\n",
    "\n",
    "def sub_company(df, not_first_layer): # 给定dataframe，返回edges，以及子公司的(company, ticker)对\n",
    "    if df.shape[0]:\n",
    "        if not_first_layer:\n",
    "            edges = list(zip([not_first_layer] * df.shape[0], df['RalatedParty'], df['DirectHoldingRatio'].astype(float), df['IndirectHoldingRatio'], df['is_foreign'], df['Relationship'], df['is_subsidiary_listed']))\n",
    "        else:\n",
    "            edges = list(zip(df['Name'], df['RalatedParty'], df['DirectHoldingRatio'].astype(float), df['IndirectHoldingRatio'], df['is_foreign'], df['Relationship'], df['is_subsidiary_listed']))\n",
    "        descendant = df[~df['Sub_Symbol'].isna()]\n",
    "        return edges, list(zip(descendant['RalatedParty'], descendant['Sub_Symbol']))\n",
    "    else:\n",
    "        return [], []\n",
    "\n",
    "def search(data, input_ticker):\n",
    "    level = 0\n",
    "    edges = []\n",
    "    new_edges, subsidiary = sub_company(data[data['Symbol'] == input_ticker], not_first_layer=False)\n",
    "    while True:\n",
    "        edges = edges + new_edges\n",
    "        gen = list((sub_company(data[data['Symbol'] == ticker], not_first_layer=company) for company, ticker in subsidiary))\n",
    "        new_edges, subsidiary = [edge for edges, _ in gen for edge in edges], [temp for _, temps in gen for temp in temps]\n",
    "        level += 1\n",
    "        if len(subsidiary) == 0 or level == 3:\n",
    "            break\n",
    "\n",
    "    return edges\n"
   ]
  },
  {
   "cell_type": "code",
   "execution_count": 103,
   "metadata": {},
   "outputs": [],
   "source": [
    "data = pd.read_csv('data/data.csv', dtype=str) # pd.read_excel('data/data.xlsx')[2:].reset_index(drop=True)\n",
    "\n",
    "# def has_chinese(s):\n",
    "#     return bool(re.search('[\\u4e00-\\u9fff]', s))\n",
    "\n",
    "# data['is_foreign'] = data['RalatedParty'].apply(lambda x: 0 if has_chinese(x) else 1)\n",
    "\n",
    "# map = pd.read_excel('map.xlsx', dtype=str)\n",
    "\n",
    "# map_dict = dict(zip(map['公司名称'], map['证券代码.x']))\n",
    "\n",
    "# data['Sub_Symbol'] = data['RalatedParty'].map(map_dict)\n",
    "\n",
    "# data['is_subsidiary_listed'] = 0\n",
    "\n",
    "# data.loc[~data['Sub_Symbol'].isna(), 'is_subsidiary_listed'] = 1\n",
    "\n"
   ]
  },
  {
   "cell_type": "code",
   "execution_count": 116,
   "metadata": {},
   "outputs": [],
   "source": [
    "edges = search(data, '000009')\n",
    "edges = [edge for edge in edges if edge[6] == '1' or edge[2] > 90] \n",
    "edges1 = [edge for edge in edges if edge[6] == '1']\n",
    "edges2 = [edge for edge in edges if edge[6] == '0']"
   ]
  },
  {
   "cell_type": "code",
   "execution_count": 141,
   "metadata": {},
   "outputs": [],
   "source": [
    "from collections import defaultdict\n",
    "\n",
    "# 创建一个 defaultdict 以存储每个公司的子公司\n",
    "subsidiaries_dict = defaultdict(list)\n",
    "\n",
    "# 按公司名称分组并排序\n",
    "for edge in edges2:\n",
    "    company_name = edge[0]\n",
    "    subsidiary = edge[1]\n",
    "    holding_ratio = edge[2]\n",
    "    if holding_ratio:\n",
    "        subsidiaries_dict[company_name].append(edge[1:])\n",
    "\n",
    "# 取每个公司前五个子公司\n",
    "top_five_subsidiaries = {}\n",
    "for company, subsidiaries in subsidiaries_dict.items():\n",
    "    sorted_subsidiaries = sorted(subsidiaries, key=lambda x: x[1], reverse=True)\n",
    "    top_five_subsidiaries[company] = sorted_subsidiaries[:5]\n",
    "\n",
    "# 将结果展平成一个列表\n",
    "final_edges = [(company, *sub_company) for company, sub_companies in top_five_subsidiaries.items() for sub_company in sub_companies]\n"
   ]
  },
  {
   "cell_type": "code",
   "execution_count": 142,
   "metadata": {},
   "outputs": [
    {
     "data": {
      "text/plain": [
       "[('中国宝安', '宝安科技有限公司', 100.0, nan, '0', '上市公司的子公司', '0'),\n",
       " ('中国宝安', '恒丰国际投资有限公司', 100.0, nan, '0', '上市公司的子公司', '0'),\n",
       " ('中国宝安', '深圳红莲湖投资有限公司', 100.0, nan, '0', '上市公司的子公司', '0'),\n",
       " ('中国宝安', '宝安集团产业投资管理有限公司', 100.0, nan, '0', '上市公司的子公司', '0'),\n",
       " ('中国宝安', '中国宝安集团控股有限公司', 100.0, nan, '0', '上市公司的子公司', '0'),\n",
       " ('马应龙药业集团股份有限公司', '武汉广为康医疗科技有限公司', 100.0, nan, '0', '上市公司的子公司', '0'),\n",
       " ('马应龙药业集团股份有限公司', '马应龙肛肠诊疗技术研究院', 100.0, nan, '0', '上市公司的子公司', '0'),\n",
       " ('马应龙药业集团股份有限公司', '武汉广为兴科技有限公司', 100.0, nan, '0', '上市公司的子公司', '0'),\n",
       " ('马应龙药业集团股份有限公司', '武汉天一医药科技投资有限公司', 98.75, '1.25', '0', '上市公司的子公司', '0'),\n",
       " ('马应龙药业集团股份有限公司', '马应龙国际医药发展有限公司', 97.96, nan, '0', '上市公司的子公司', '0'),\n",
       " ('贝特瑞新材料集团股份有限公司', '惠州市贝特瑞新材料科技有限公司', 100.0, nan, '0', '上市公司的子公司', '0'),\n",
       " ('贝特瑞新材料集团股份有限公司', '深圳贝特瑞钠电新材料科技有限公司', 100.0, nan, '0', '上市公司的子公司', '0'),\n",
       " ('贝特瑞新材料集团股份有限公司', '贝特瑞(四川)新材料科技有限公司', 100.0, nan, '0', '上市公司的子公司', '0'),\n",
       " ('贝特瑞新材料集团股份有限公司', '深圳市贝特瑞新能源技术研究院有限公司', 100.0, nan, '0', '上市公司的子公司', '0'),\n",
       " ('贝特瑞新材料集团股份有限公司', '鸡西市贝特瑞新能源科技有限公司', 100.0, nan, '0', '上市公司的子公司', '0'),\n",
       " ('广东芳源新材料集团股份有限公司', '江门芳源金属材料科技有限公司', 100.0, nan, '0', '上市公司的子公司', '0'),\n",
       " ('广东芳源新材料集团股份有限公司', '江门市芳源循环科技有限公司', 100.0, nan, '0', '上市公司的子公司', '0')]"
      ]
     },
     "execution_count": 142,
     "metadata": {},
     "output_type": "execute_result"
    }
   ],
   "source": [
    "final_edges"
   ]
  }
 ],
 "metadata": {
  "kernelspec": {
   "display_name": "Python 3",
   "language": "python",
   "name": "python3"
  },
  "language_info": {
   "codemirror_mode": {
    "name": "ipython",
    "version": 3
   },
   "file_extension": ".py",
   "mimetype": "text/x-python",
   "name": "python",
   "nbconvert_exporter": "python",
   "pygments_lexer": "ipython3",
   "version": "3.8.8"
  }
 },
 "nbformat": 4,
 "nbformat_minor": 2
}
